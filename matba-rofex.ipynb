{
 "cells": [
  {
   "cell_type": "markdown",
   "id": "a8398a70",
   "metadata": {
    "_cell_guid": "b56cc6ba-12f7-4988-8475-fa65e0abd971",
    "_uuid": "6924f0c5-32f4-4335-ad25-f4dd3d922941",
    "papermill": {
     "duration": 0.00437,
     "end_time": "2024-02-08T18:01:32.900901",
     "exception": false,
     "start_time": "2024-02-08T18:01:32.896531",
     "status": "completed"
    },
    "tags": []
   },
   "source": [
    "# Análisis del Índice BTC MtR en Pesos Argentinos"
   ]
  },
  {
   "cell_type": "markdown",
   "id": "9d821a55",
   "metadata": {
    "_cell_guid": "79f6dffa-3090-4dd0-9717-024a6c1b8a15",
    "_uuid": "b508a46f-098f-415c-8451-31e0cedc6639",
    "papermill": {
     "duration": 0.003413,
     "end_time": "2024-02-08T18:01:32.908128",
     "exception": false,
     "start_time": "2024-02-08T18:01:32.904715",
     "status": "completed"
    },
    "tags": []
   },
   "source": [
    "En el siguiente código, estamos accediendo a datos financieros utilizando la API de Índices MtR. Esta API proporciona información detallada sobre varios instrumentos financieros, incluido el Índice BTC MtR, que refleja el precio del Bitcoin en Pesos Argentinos (BTC/ARS). Estos datos son esenciales para el seguimiento y análisis de los mercados financieros en tiempo real.\n",
    "\n",
    "Además, la API Índices MtR es de libre acceso y no requiere registro ni credenciales de acceso. Está disponible las 24 horas del día, los 365 días del año, lo que facilita su integración en aplicaciones y sistemas. Los datos se pueden consultar tanto de forma síncrona a través de solicitudes REST como de forma asíncrona mediante Web Socket para recibir actualizaciones automáticas cuando cambian."
   ]
  },
  {
   "cell_type": "code",
   "execution_count": 1,
   "id": "ce962da4",
   "metadata": {
    "_cell_guid": "3384bafa-dbb1-4f76-b5b8-ece7c83d4c88",
    "_uuid": "d928caac-d981-441d-8d1b-895bd63aa089",
    "collapsed": false,
    "execution": {
     "iopub.execute_input": "2024-02-08T18:01:32.917369Z",
     "iopub.status.busy": "2024-02-08T18:01:32.916752Z",
     "iopub.status.idle": "2024-02-08T18:01:41.640165Z",
     "shell.execute_reply": "2024-02-08T18:01:41.638704Z"
    },
    "jupyter": {
     "outputs_hidden": false
    },
    "papermill": {
     "duration": 8.731118,
     "end_time": "2024-02-08T18:01:41.642776",
     "exception": false,
     "start_time": "2024-02-08T18:01:32.911658",
     "status": "completed"
    },
    "tags": []
   },
   "outputs": [
    {
     "name": "stdout",
     "output_type": "stream",
     "text": [
      "Error al realizar la solicitud para el token I.DOLAREXPO: Expecting value: line 1 column 1 (char 0)\n"
     ]
    }
   ],
   "source": [
    "import requests\n",
    "import pandas as pd\n",
    "import boto3\n",
    "import os\n",
    "from kaggle_secrets import UserSecretsClient\n",
    "\n",
    "# Obtener las credenciales de AWS desde los secretos de usuario\n",
    "user_secrets = UserSecretsClient()\n",
    "access_key = user_secrets.get_secret(\"AWSAccessKeyId\")\n",
    "secret_key = user_secrets.get_secret(\"AWSSecretKey\")\n",
    "bucket_name = 'matbarofex-data'  # Nuevo nombre del bucket\n",
    "\n",
    "# Crear el cliente de S3\n",
    "s3_client = boto3.client('s3', aws_access_key_id=access_key, aws_secret_access_key=secret_key)\n",
    "\n",
    "# Verificar si el bucket ya existe\n",
    "response = s3_client.list_buckets()\n",
    "existing_buckets = [bucket['Name'] for bucket in response['Buckets']]\n",
    "\n",
    "if bucket_name not in existing_buckets:\n",
    "    # El bucket no existe, se puede crear\n",
    "    s3_client.create_bucket(Bucket=bucket_name)\n",
    "\n",
    "# Lista de tokens\n",
    "tokens = ['I.BTC', 'I.SOJA', 'I.MAIZ', 'I.TRIGO', 'I.AGTKSOYA', 'I.AGTKCORA', 'I.AGTKWHEA', 'I.CCL', 'I.RFX20', 'I.DOLAREXPO']\n",
    "\n",
    "# Iterar sobre cada token\n",
    "for token in tokens:\n",
    "    # URL de la API de Matbarofex para el token actual\n",
    "    url_token = f\"https://api.matbarofex.com.ar/v1/rest/indices/{token}\"\n",
    "\n",
    "    # Realizar la solicitud GET a la API de Matbarofex para el token actual\n",
    "    response_token = requests.get(url_token)\n",
    "    \n",
    "    try:\n",
    "        response_token.raise_for_status()\n",
    "        data_token = response_token.json()\n",
    "        \n",
    "        # Crear un DataFrame con los datos del token actual\n",
    "        df_token = pd.DataFrame([data_token])\n",
    "\n",
    "        # Nombre del archivo para el token actual con prefijo\n",
    "        filename_token = f'{token}_matbarofex_{pd.Timestamp.now().strftime(\"%Y-%m-%d\")}.csv'\n",
    "\n",
    "        # Guardar el DataFrame del token actual en un archivo CSV\n",
    "        df_token.to_csv(filename_token, index=False)\n",
    "\n",
    "        # Subir el archivo CSV del token actual a S3\n",
    "        s3_client.upload_file(filename_token, bucket_name, filename_token)\n",
    "        \n",
    "        # Borrar el archivo local después de subirlo a S3\n",
    "        os.remove(filename_token)\n",
    "    except requests.exceptions.RequestException as e:\n",
    "        print(f\"Error al realizar la solicitud para el token {token}: {e}\")\n"
   ]
  },
  {
   "cell_type": "code",
   "execution_count": 2,
   "id": "2ae40130",
   "metadata": {
    "_cell_guid": "171f1b96-ba9f-486b-b2b1-286ceb0d859a",
    "_uuid": "6604951c-fbe7-489f-b016-cd2695f64142",
    "collapsed": false,
    "execution": {
     "iopub.execute_input": "2024-02-08T18:01:41.652767Z",
     "iopub.status.busy": "2024-02-08T18:01:41.652120Z",
     "iopub.status.idle": "2024-02-08T18:01:41.828441Z",
     "shell.execute_reply": "2024-02-08T18:01:41.826996Z"
    },
    "jupyter": {
     "outputs_hidden": false
    },
    "papermill": {
     "duration": 0.183684,
     "end_time": "2024-02-08T18:01:41.830533",
     "exception": false,
     "start_time": "2024-02-08T18:01:41.646849",
     "status": "completed"
    },
    "tags": []
   },
   "outputs": [],
   "source": [
    "# Listar objetos en el bucket\n",
    "objects = s3_client.list_objects(Bucket=bucket_name)"
   ]
  },
  {
   "cell_type": "code",
   "execution_count": 3,
   "id": "c19ae07e",
   "metadata": {
    "_cell_guid": "1a092517-4b90-47ae-a24c-951a36e2dd87",
    "_uuid": "b9c09e81-1d40-4551-a498-94f9d963969b",
    "collapsed": false,
    "execution": {
     "iopub.execute_input": "2024-02-08T18:01:41.840241Z",
     "iopub.status.busy": "2024-02-08T18:01:41.839764Z",
     "iopub.status.idle": "2024-02-08T18:01:51.667582Z",
     "shell.execute_reply": "2024-02-08T18:01:51.666765Z"
    },
    "jupyter": {
     "outputs_hidden": false
    },
    "papermill": {
     "duration": 9.835007,
     "end_time": "2024-02-08T18:01:51.669626",
     "exception": false,
     "start_time": "2024-02-08T18:01:41.834619",
     "status": "completed"
    },
    "tags": []
   },
   "outputs": [],
   "source": [
    "import boto3\n",
    "import pandas as pd\n",
    "from io import BytesIO\n",
    "\n",
    "# Crear una lista para almacenar DataFrames\n",
    "dataframes = []\n",
    "\n",
    "# Iterar sobre los objetos y leer los archivos CSV desde S3\n",
    "for obj in objects.get('Contents', []):\n",
    "    filename = obj['Key']\n",
    "    if (filename.startswith('matba') or filename.startswith('I.BTC_')) and filename.endswith('.csv'):\n",
    "        # Leer el archivo CSV directamente desde S3\n",
    "        obj_data = s3_client.get_object(Bucket=bucket_name, Key=filename)\n",
    "        df = pd.read_csv(BytesIO(obj_data['Body'].read()))\n",
    "\n",
    "        # Agregar el DataFrame a la lista\n",
    "        dataframes.append(df)"
   ]
  },
  {
   "cell_type": "code",
   "execution_count": 4,
   "id": "38c07949",
   "metadata": {
    "_cell_guid": "9c1a3808-5e41-4e89-893a-808ed5d38735",
    "_uuid": "81d7002a-27d7-4e78-a2a1-f9337dab5fa2",
    "collapsed": false,
    "execution": {
     "iopub.execute_input": "2024-02-08T18:01:51.679616Z",
     "iopub.status.busy": "2024-02-08T18:01:51.678542Z",
     "iopub.status.idle": "2024-02-08T18:01:51.729019Z",
     "shell.execute_reply": "2024-02-08T18:01:51.728121Z"
    },
    "jupyter": {
     "outputs_hidden": false
    },
    "papermill": {
     "duration": 0.057716,
     "end_time": "2024-02-08T18:01:51.731221",
     "exception": false,
     "start_time": "2024-02-08T18:01:51.673505",
     "status": "completed"
    },
    "tags": []
   },
   "outputs": [],
   "source": [
    "import pandas as pd\n",
    "\n",
    "# Supongamos que dataframes es la lista que contiene tus DataFrames\n",
    "\n",
    "# Concatenar todos los DataFrames en un solo DataFrame\n",
    "df_combinado = pd.concat(dataframes, ignore_index=True)"
   ]
  },
  {
   "cell_type": "code",
   "execution_count": 5,
   "id": "4e01a47e",
   "metadata": {
    "execution": {
     "iopub.execute_input": "2024-02-08T18:01:51.740142Z",
     "iopub.status.busy": "2024-02-08T18:01:51.739817Z",
     "iopub.status.idle": "2024-02-08T18:01:51.764547Z",
     "shell.execute_reply": "2024-02-08T18:01:51.763711Z"
    },
    "papermill": {
     "duration": 0.031443,
     "end_time": "2024-02-08T18:01:51.766693",
     "exception": false,
     "start_time": "2024-02-08T18:01:51.735250",
     "status": "completed"
    },
    "tags": []
   },
   "outputs": [
    {
     "data": {
      "text/html": [
       "<div>\n",
       "<style scoped>\n",
       "    .dataframe tbody tr th:only-of-type {\n",
       "        vertical-align: middle;\n",
       "    }\n",
       "\n",
       "    .dataframe tbody tr th {\n",
       "        vertical-align: top;\n",
       "    }\n",
       "\n",
       "    .dataframe thead th {\n",
       "        text-align: right;\n",
       "    }\n",
       "</style>\n",
       "<table border=\"1\" class=\"dataframe\">\n",
       "  <thead>\n",
       "    <tr style=\"text-align: right;\">\n",
       "      <th></th>\n",
       "      <th>closeIndexDate</th>\n",
       "      <th>closeIndexValue</th>\n",
       "      <th>costOfTrade</th>\n",
       "      <th>indexValue</th>\n",
       "      <th>mdEntryDateTime</th>\n",
       "      <th>nominalValue</th>\n",
       "      <th>representativeness</th>\n",
       "      <th>symbol</th>\n",
       "      <th>unixTimestamp</th>\n",
       "    </tr>\n",
       "  </thead>\n",
       "  <tbody>\n",
       "    <tr>\n",
       "      <th>0</th>\n",
       "      <td>2024-02-07 20:00:00</td>\n",
       "      <td>53937166.42</td>\n",
       "      <td>880877.68</td>\n",
       "      <td>54966271.08</td>\n",
       "      <td>2024-02-08 18:01:00</td>\n",
       "      <td>2.59</td>\n",
       "      <td>R</td>\n",
       "      <td>I.BTC</td>\n",
       "      <td>1.707415e+09</td>\n",
       "    </tr>\n",
       "    <tr>\n",
       "      <th>1</th>\n",
       "      <td>NaN</td>\n",
       "      <td>NaN</td>\n",
       "      <td>464296.05</td>\n",
       "      <td>27395924.95</td>\n",
       "      <td>2023-10-17 20:57:00</td>\n",
       "      <td>5.15</td>\n",
       "      <td>R</td>\n",
       "      <td>I.BTC</td>\n",
       "      <td>1.697576e+09</td>\n",
       "    </tr>\n",
       "    <tr>\n",
       "      <th>2</th>\n",
       "      <td>NaN</td>\n",
       "      <td>NaN</td>\n",
       "      <td>419446.95</td>\n",
       "      <td>27367063.23</td>\n",
       "      <td>2023-10-18 20:49:00</td>\n",
       "      <td>4.00</td>\n",
       "      <td>R</td>\n",
       "      <td>I.BTC</td>\n",
       "      <td>1.697662e+09</td>\n",
       "    </tr>\n",
       "    <tr>\n",
       "      <th>3</th>\n",
       "      <td>NaN</td>\n",
       "      <td>NaN</td>\n",
       "      <td>543069.64</td>\n",
       "      <td>29076373.11</td>\n",
       "      <td>2023-10-19 20:58:00</td>\n",
       "      <td>4.00</td>\n",
       "      <td>R</td>\n",
       "      <td>I.BTC</td>\n",
       "      <td>1.697749e+09</td>\n",
       "    </tr>\n",
       "    <tr>\n",
       "      <th>4</th>\n",
       "      <td>NaN</td>\n",
       "      <td>NaN</td>\n",
       "      <td>1504967.02</td>\n",
       "      <td>35126539.26</td>\n",
       "      <td>2023-10-20 20:43:00</td>\n",
       "      <td>3.36</td>\n",
       "      <td>R</td>\n",
       "      <td>I.BTC</td>\n",
       "      <td>1.697835e+09</td>\n",
       "    </tr>\n",
       "    <tr>\n",
       "      <th>...</th>\n",
       "      <td>...</td>\n",
       "      <td>...</td>\n",
       "      <td>...</td>\n",
       "      <td>...</td>\n",
       "      <td>...</td>\n",
       "      <td>...</td>\n",
       "      <td>...</td>\n",
       "      <td>...</td>\n",
       "      <td>...</td>\n",
       "    </tr>\n",
       "    <tr>\n",
       "      <th>107</th>\n",
       "      <td>2024-02-03 20:00:00</td>\n",
       "      <td>53274899.10</td>\n",
       "      <td>1058614.06</td>\n",
       "      <td>52927000.29</td>\n",
       "      <td>2024-02-04 17:34:00</td>\n",
       "      <td>3.67</td>\n",
       "      <td>R</td>\n",
       "      <td>I.BTC</td>\n",
       "      <td>1.707068e+09</td>\n",
       "    </tr>\n",
       "    <tr>\n",
       "      <th>108</th>\n",
       "      <td>2024-02-04 20:00:00</td>\n",
       "      <td>52499477.87</td>\n",
       "      <td>1161572.27</td>\n",
       "      <td>53160342.68</td>\n",
       "      <td>2024-02-05 18:11:00</td>\n",
       "      <td>3.52</td>\n",
       "      <td>R</td>\n",
       "      <td>I.BTC</td>\n",
       "      <td>1.707157e+09</td>\n",
       "    </tr>\n",
       "    <tr>\n",
       "      <th>109</th>\n",
       "      <td>2024-02-05 20:00:00</td>\n",
       "      <td>53100182.88</td>\n",
       "      <td>1051914.84</td>\n",
       "      <td>52954797.43</td>\n",
       "      <td>2024-02-06 17:54:00</td>\n",
       "      <td>3.69</td>\n",
       "      <td>R</td>\n",
       "      <td>I.BTC</td>\n",
       "      <td>1.707242e+09</td>\n",
       "    </tr>\n",
       "    <tr>\n",
       "      <th>110</th>\n",
       "      <td>2024-02-06 20:00:00</td>\n",
       "      <td>52553214.20</td>\n",
       "      <td>1170693.92</td>\n",
       "      <td>54094599.91</td>\n",
       "      <td>2024-02-07 17:39:00</td>\n",
       "      <td>3.71</td>\n",
       "      <td>R</td>\n",
       "      <td>I.BTC</td>\n",
       "      <td>1.707328e+09</td>\n",
       "    </tr>\n",
       "    <tr>\n",
       "      <th>111</th>\n",
       "      <td>2024-02-07 20:00:00</td>\n",
       "      <td>53937166.42</td>\n",
       "      <td>787661.60</td>\n",
       "      <td>55151905.18</td>\n",
       "      <td>2024-02-08 14:37:00</td>\n",
       "      <td>3.19</td>\n",
       "      <td>R</td>\n",
       "      <td>I.BTC</td>\n",
       "      <td>1.707403e+09</td>\n",
       "    </tr>\n",
       "  </tbody>\n",
       "</table>\n",
       "<p>112 rows × 9 columns</p>\n",
       "</div>"
      ],
      "text/plain": [
       "          closeIndexDate  closeIndexValue  costOfTrade   indexValue  \\\n",
       "0    2024-02-07 20:00:00      53937166.42    880877.68  54966271.08   \n",
       "1                    NaN              NaN    464296.05  27395924.95   \n",
       "2                    NaN              NaN    419446.95  27367063.23   \n",
       "3                    NaN              NaN    543069.64  29076373.11   \n",
       "4                    NaN              NaN   1504967.02  35126539.26   \n",
       "..                   ...              ...          ...          ...   \n",
       "107  2024-02-03 20:00:00      53274899.10   1058614.06  52927000.29   \n",
       "108  2024-02-04 20:00:00      52499477.87   1161572.27  53160342.68   \n",
       "109  2024-02-05 20:00:00      53100182.88   1051914.84  52954797.43   \n",
       "110  2024-02-06 20:00:00      52553214.20   1170693.92  54094599.91   \n",
       "111  2024-02-07 20:00:00      53937166.42    787661.60  55151905.18   \n",
       "\n",
       "         mdEntryDateTime  nominalValue representativeness symbol  \\\n",
       "0    2024-02-08 18:01:00          2.59                  R  I.BTC   \n",
       "1    2023-10-17 20:57:00          5.15                  R  I.BTC   \n",
       "2    2023-10-18 20:49:00          4.00                  R  I.BTC   \n",
       "3    2023-10-19 20:58:00          4.00                  R  I.BTC   \n",
       "4    2023-10-20 20:43:00          3.36                  R  I.BTC   \n",
       "..                   ...           ...                ...    ...   \n",
       "107  2024-02-04 17:34:00          3.67                  R  I.BTC   \n",
       "108  2024-02-05 18:11:00          3.52                  R  I.BTC   \n",
       "109  2024-02-06 17:54:00          3.69                  R  I.BTC   \n",
       "110  2024-02-07 17:39:00          3.71                  R  I.BTC   \n",
       "111  2024-02-08 14:37:00          3.19                  R  I.BTC   \n",
       "\n",
       "     unixTimestamp  \n",
       "0     1.707415e+09  \n",
       "1     1.697576e+09  \n",
       "2     1.697662e+09  \n",
       "3     1.697749e+09  \n",
       "4     1.697835e+09  \n",
       "..             ...  \n",
       "107   1.707068e+09  \n",
       "108   1.707157e+09  \n",
       "109   1.707242e+09  \n",
       "110   1.707328e+09  \n",
       "111   1.707403e+09  \n",
       "\n",
       "[112 rows x 9 columns]"
      ]
     },
     "execution_count": 5,
     "metadata": {},
     "output_type": "execute_result"
    }
   ],
   "source": [
    "df_combinado"
   ]
  },
  {
   "cell_type": "code",
   "execution_count": 6,
   "id": "5d69acc7",
   "metadata": {
    "_cell_guid": "32b48603-84df-4d73-a672-9ad49303dead",
    "_uuid": "44e914bd-ee90-4e51-80e5-e90880097c15",
    "collapsed": false,
    "execution": {
     "iopub.execute_input": "2024-02-08T18:01:51.776408Z",
     "iopub.status.busy": "2024-02-08T18:01:51.776108Z",
     "iopub.status.idle": "2024-02-08T18:01:52.344097Z",
     "shell.execute_reply": "2024-02-08T18:01:52.343238Z"
    },
    "jupyter": {
     "outputs_hidden": false
    },
    "papermill": {
     "duration": 0.575221,
     "end_time": "2024-02-08T18:01:52.346154",
     "exception": false,
     "start_time": "2024-02-08T18:01:51.770933",
     "status": "completed"
    },
    "tags": []
   },
   "outputs": [
    {
     "data": {
      "text/html": [
       "        <script type=\"text/javascript\">\n",
       "        window.PlotlyConfig = {MathJaxConfig: 'local'};\n",
       "        if (window.MathJax && window.MathJax.Hub && window.MathJax.Hub.Config) {window.MathJax.Hub.Config({SVG: {font: \"STIX-Web\"}});}\n",
       "        if (typeof require !== 'undefined') {\n",
       "        require.undef(\"plotly\");\n",
       "        requirejs.config({\n",
       "            paths: {\n",
       "                'plotly': ['https://cdn.plot.ly/plotly-2.24.1.min']\n",
       "            }\n",
       "        });\n",
       "        require(['plotly'], function(Plotly) {\n",
       "            window._Plotly = Plotly;\n",
       "        });\n",
       "        }\n",
       "        </script>\n",
       "        "
      ]
     },
     "metadata": {},
     "output_type": "display_data"
    },
    {
     "data": {
      "text/html": [
       "<div>                            <div id=\"4ff11647-d2e1-4166-838f-2d184e7014a3\" class=\"plotly-graph-div\" style=\"height:525px; width:100%;\"></div>            <script type=\"text/javascript\">                require([\"plotly\"], function(Plotly) {                    window.PLOTLYENV=window.PLOTLYENV || {};                                    if (document.getElementById(\"4ff11647-d2e1-4166-838f-2d184e7014a3\")) {                    Plotly.newPlot(                        \"4ff11647-d2e1-4166-838f-2d184e7014a3\",                        [{\"line\":{\"color\":\"#1C598A\"},\"name\":\"indexValue\",\"x\":[\"2024-02-08 18:01:00\",\"2023-10-17 20:57:00\",\"2023-10-18 20:49:00\",\"2023-10-19 20:58:00\",\"2023-10-20 20:43:00\",\"2023-10-21 20:49:00\",\"2023-10-22 20:45:00\",\"2023-10-23 20:45:00\",\"2023-10-24 20:47:00\",\"2023-10-25 20:37:00\",\"2023-10-26 20:49:00\",\"2023-10-27 20:31:00\",\"2023-10-28 21:08:00\",\"2023-10-29 20:23:00\",\"2023-10-30 20:46:00\",\"2023-10-31 20:32:00\",\"2023-11-01 20:24:00\",\"2023-11-02 20:32:00\",\"2023-11-03 20:08:00\",\"2023-11-04 20:16:00\",\"2023-11-05 20:06:00\",\"2023-11-06 20:12:00\",\"2023-11-07 20:08:00\",\"2023-11-08 20:02:00\",\"2023-11-09 20:10:00\",\"2023-11-10 19:59:00\",\"2023-11-14 22:37:00\",\"2023-11-15 20:10:00\",\"2023-11-16 19:49:00\",\"2023-11-17 19:54:00\",\"2023-11-18 19:55:00\",\"2023-11-19 19:57:00\",\"2023-11-20 19:51:00\",\"2023-11-21 19:21:00\",\"2023-11-22 19:32:00\",\"2023-11-23 19:47:00\",\"2023-11-24 19:27:00\",\"2023-11-25 19:52:00\",\"2023-11-26 19:44:00\",\"2023-11-27 19:48:00\",\"2023-11-28 19:49:00\",\"2023-11-29 19:30:00\",\"2023-11-30 19:19:00\",\"2023-12-01 19:23:00\",\"2023-12-02 19:35:00\",\"2023-12-03 20:35:00\",\"2023-12-04 19:38:00\",\"2023-12-05 19:55:00\",\"2023-12-06 19:50:00\",\"2023-12-07 19:34:00\",\"2023-12-08 19:06:00\",\"2023-12-09 19:35:00\",\"2023-12-10 19:31:00\",\"2023-12-11 19:36:00\",\"2023-12-12 19:26:00\",\"2023-12-13 19:25:00\",\"2023-12-14 19:12:00\",\"2023-12-15 19:30:00\",\"2023-12-16 19:13:00\",\"2023-12-17 19:14:00\",\"2023-12-18 19:05:00\",\"2023-12-19 19:35:00\",\"2023-12-20 18:52:00\",\"2023-12-21 18:50:00\",\"2023-12-22 18:37:00\",\"2023-12-23 18:48:00\",\"2023-12-24 18:54:00\",\"2023-12-25 18:42:00\",\"2023-12-26 19:12:00\",\"2023-12-27 18:37:00\",\"2023-12-28 18:32:00\",\"2023-12-29 18:17:00\",\"2023-12-30 18:32:00\",\"2023-12-31 18:37:00\",\"2024-01-01 18:42:00\",\"2024-01-02 18:57:00\",\"2024-01-03 18:18:00\",\"2024-01-04 18:23:00\",\"2024-01-05 18:26:00\",\"2024-01-06 18:07:00\",\"2024-01-07 17:48:00\",\"2024-01-08 19:33:00\",\"2024-01-09 18:30:00\",\"2024-01-10 18:32:00\",\"2024-01-11 18:04:00\",\"2024-01-12 18:20:00\",\"2024-01-13 18:23:00\",\"2024-01-15 18:29:00\",\"2024-01-16 18:24:00\",\"2024-01-17 17:55:00\",\"2024-01-18 18:18:00\",\"2024-01-19 18:15:00\",\"2024-01-20 18:10:00\",\"2024-01-21 17:37:00\",\"2024-01-22 18:32:00\",\"2024-01-23 18:07:00\",\"2024-01-24 18:02:00\",\"2024-01-25 17:29:00\",\"2024-01-26 18:01:00\",\"2024-01-27 17:53:00\",\"2024-01-28 18:24:00\",\"2024-01-29 18:02:00\",\"2024-01-30 17:55:00\",\"2024-01-31 17:41:00\",\"2024-02-01 17:55:00\",\"2024-02-02 17:55:00\",\"2024-02-03 17:54:00\",\"2024-02-04 17:34:00\",\"2024-02-05 18:11:00\",\"2024-02-06 17:54:00\",\"2024-02-07 17:39:00\",\"2024-02-08 14:37:00\"],\"y\":[54966271.08,27395924.95,27367063.23,29076373.11,35126539.26,34816098.92,36001264.99,31105757.19,30894356.9,31058496.99,30613884.09,29493301.29,29650907.58,30026530.28,29577389.36,29916744.77,30201285.58,30493507.64,29971505.66,30191470.24,30537436.81,30285551.26,29959912.22,29949650.45,31503588.52,33182495.5,31361600.92,34108976.61,32004885.83,33760677.39,35060436.22,35143431.12,36680214.84,33871492.83,36043454.73,36405192.63,36294481.66,34991865.86,34806816.36,33598839.9,33038104.46,31871673.01,31462329.82,34683709.93,35099380.49,35671909.2,37855748.65,39633849.17,40437515.82,41653460.79,44507227.89,44996486.27,44285981.5,39655325.48,43192482.3,43924093.94,42543782.33,41310152.4,41519538.56,41429638.62,40203186.27,40818701.63,41787667.34,41671047.96,41263576.89,41536708.87,42015801.04,42654326.74,40198933.95,40472890.8,40297610.25,40148002.82,41407593.51,41937501.99,42468546.6,43801866.65,43174903.45,45793060.81,46204037.5,46970187.75,47289603.15,53009683.91,54803864.58,54313782.56,53292421.9,49258346.84,48683881.41,49155092.39,50995687.22,52360209.7,52683781.87,52200489.45,51879872.35,51938443.09,51825941.03,50484982.47,51042889.63,50589299.67,51894289.4,50523999.59,50595723.84,53433135.7,54216319.15,53108410.88,53055130.15,54160262.97,53600141.92,52927000.29,53160342.68,52954797.43,54094599.91,55151905.18],\"type\":\"scatter\",\"xaxis\":\"x\",\"yaxis\":\"y\"},{\"marker\":{\"color\":\"#6CADE1\"},\"name\":\"nominalValue\",\"x\":[\"2024-02-08 18:01:00\",\"2023-10-17 20:57:00\",\"2023-10-18 20:49:00\",\"2023-10-19 20:58:00\",\"2023-10-20 20:43:00\",\"2023-10-21 20:49:00\",\"2023-10-22 20:45:00\",\"2023-10-23 20:45:00\",\"2023-10-24 20:47:00\",\"2023-10-25 20:37:00\",\"2023-10-26 20:49:00\",\"2023-10-27 20:31:00\",\"2023-10-28 21:08:00\",\"2023-10-29 20:23:00\",\"2023-10-30 20:46:00\",\"2023-10-31 20:32:00\",\"2023-11-01 20:24:00\",\"2023-11-02 20:32:00\",\"2023-11-03 20:08:00\",\"2023-11-04 20:16:00\",\"2023-11-05 20:06:00\",\"2023-11-06 20:12:00\",\"2023-11-07 20:08:00\",\"2023-11-08 20:02:00\",\"2023-11-09 20:10:00\",\"2023-11-10 19:59:00\",\"2023-11-14 22:37:00\",\"2023-11-15 20:10:00\",\"2023-11-16 19:49:00\",\"2023-11-17 19:54:00\",\"2023-11-18 19:55:00\",\"2023-11-19 19:57:00\",\"2023-11-20 19:51:00\",\"2023-11-21 19:21:00\",\"2023-11-22 19:32:00\",\"2023-11-23 19:47:00\",\"2023-11-24 19:27:00\",\"2023-11-25 19:52:00\",\"2023-11-26 19:44:00\",\"2023-11-27 19:48:00\",\"2023-11-28 19:49:00\",\"2023-11-29 19:30:00\",\"2023-11-30 19:19:00\",\"2023-12-01 19:23:00\",\"2023-12-02 19:35:00\",\"2023-12-03 20:35:00\",\"2023-12-04 19:38:00\",\"2023-12-05 19:55:00\",\"2023-12-06 19:50:00\",\"2023-12-07 19:34:00\",\"2023-12-08 19:06:00\",\"2023-12-09 19:35:00\",\"2023-12-10 19:31:00\",\"2023-12-11 19:36:00\",\"2023-12-12 19:26:00\",\"2023-12-13 19:25:00\",\"2023-12-14 19:12:00\",\"2023-12-15 19:30:00\",\"2023-12-16 19:13:00\",\"2023-12-17 19:14:00\",\"2023-12-18 19:05:00\",\"2023-12-19 19:35:00\",\"2023-12-20 18:52:00\",\"2023-12-21 18:50:00\",\"2023-12-22 18:37:00\",\"2023-12-23 18:48:00\",\"2023-12-24 18:54:00\",\"2023-12-25 18:42:00\",\"2023-12-26 19:12:00\",\"2023-12-27 18:37:00\",\"2023-12-28 18:32:00\",\"2023-12-29 18:17:00\",\"2023-12-30 18:32:00\",\"2023-12-31 18:37:00\",\"2024-01-01 18:42:00\",\"2024-01-02 18:57:00\",\"2024-01-03 18:18:00\",\"2024-01-04 18:23:00\",\"2024-01-05 18:26:00\",\"2024-01-06 18:07:00\",\"2024-01-07 17:48:00\",\"2024-01-08 19:33:00\",\"2024-01-09 18:30:00\",\"2024-01-10 18:32:00\",\"2024-01-11 18:04:00\",\"2024-01-12 18:20:00\",\"2024-01-13 18:23:00\",\"2024-01-15 18:29:00\",\"2024-01-16 18:24:00\",\"2024-01-17 17:55:00\",\"2024-01-18 18:18:00\",\"2024-01-19 18:15:00\",\"2024-01-20 18:10:00\",\"2024-01-21 17:37:00\",\"2024-01-22 18:32:00\",\"2024-01-23 18:07:00\",\"2024-01-24 18:02:00\",\"2024-01-25 17:29:00\",\"2024-01-26 18:01:00\",\"2024-01-27 17:53:00\",\"2024-01-28 18:24:00\",\"2024-01-29 18:02:00\",\"2024-01-30 17:55:00\",\"2024-01-31 17:41:00\",\"2024-02-01 17:55:00\",\"2024-02-02 17:55:00\",\"2024-02-03 17:54:00\",\"2024-02-04 17:34:00\",\"2024-02-05 18:11:00\",\"2024-02-06 17:54:00\",\"2024-02-07 17:39:00\",\"2024-02-08 14:37:00\"],\"y\":[2.59,5.15,4.0,4.0,3.36,5.58,3.1,4.0,4.0,5.46,5.63,3.17,4.0,4.03,6.57,6.77,5.0,3.99,4.0,5.95,4.58,4.76,4.0,5.36,4.0,5.95,4.0,4.0,4.0,4.0,5.66,5.17,3.31,3.45,4.0,4.21,4.0,3.03,4.36,4.93,4.98,5.12,5.8,3.38,5.27,4.71,4.63,4.0,4.56,2.92,4.0,2.52,4.0,6.21,2.75,4.47,5.12,4.82,5.67,5.41,4.0,3.38,2.55,4.0,3.27,3.21,6.17,2.43,2.96,4.0,4.0,4.0,4.37,3.26,4.0,4.6,3.36,3.43,3.56,2.82,3.36,5.82,4.0,3.3,5.65,3.16,5.18,7.08,3.38,3.23,7.41,4.0,5.0,3.02,4.0,4.96,5.75,3.2,4.0,4.0,2.6,3.43,3.43,3.3,4.01,4.4,2.68,3.67,3.52,3.69,3.71,3.19],\"type\":\"bar\",\"xaxis\":\"x2\",\"yaxis\":\"y2\"}],                        {\"template\":{\"data\":{\"histogram2dcontour\":[{\"type\":\"histogram2dcontour\",\"colorbar\":{\"outlinewidth\":0,\"ticks\":\"\"},\"colorscale\":[[0.0,\"#0d0887\"],[0.1111111111111111,\"#46039f\"],[0.2222222222222222,\"#7201a8\"],[0.3333333333333333,\"#9c179e\"],[0.4444444444444444,\"#bd3786\"],[0.5555555555555556,\"#d8576b\"],[0.6666666666666666,\"#ed7953\"],[0.7777777777777778,\"#fb9f3a\"],[0.8888888888888888,\"#fdca26\"],[1.0,\"#f0f921\"]]}],\"choropleth\":[{\"type\":\"choropleth\",\"colorbar\":{\"outlinewidth\":0,\"ticks\":\"\"}}],\"histogram2d\":[{\"type\":\"histogram2d\",\"colorbar\":{\"outlinewidth\":0,\"ticks\":\"\"},\"colorscale\":[[0.0,\"#0d0887\"],[0.1111111111111111,\"#46039f\"],[0.2222222222222222,\"#7201a8\"],[0.3333333333333333,\"#9c179e\"],[0.4444444444444444,\"#bd3786\"],[0.5555555555555556,\"#d8576b\"],[0.6666666666666666,\"#ed7953\"],[0.7777777777777778,\"#fb9f3a\"],[0.8888888888888888,\"#fdca26\"],[1.0,\"#f0f921\"]]}],\"heatmap\":[{\"type\":\"heatmap\",\"colorbar\":{\"outlinewidth\":0,\"ticks\":\"\"},\"colorscale\":[[0.0,\"#0d0887\"],[0.1111111111111111,\"#46039f\"],[0.2222222222222222,\"#7201a8\"],[0.3333333333333333,\"#9c179e\"],[0.4444444444444444,\"#bd3786\"],[0.5555555555555556,\"#d8576b\"],[0.6666666666666666,\"#ed7953\"],[0.7777777777777778,\"#fb9f3a\"],[0.8888888888888888,\"#fdca26\"],[1.0,\"#f0f921\"]]}],\"heatmapgl\":[{\"type\":\"heatmapgl\",\"colorbar\":{\"outlinewidth\":0,\"ticks\":\"\"},\"colorscale\":[[0.0,\"#0d0887\"],[0.1111111111111111,\"#46039f\"],[0.2222222222222222,\"#7201a8\"],[0.3333333333333333,\"#9c179e\"],[0.4444444444444444,\"#bd3786\"],[0.5555555555555556,\"#d8576b\"],[0.6666666666666666,\"#ed7953\"],[0.7777777777777778,\"#fb9f3a\"],[0.8888888888888888,\"#fdca26\"],[1.0,\"#f0f921\"]]}],\"contourcarpet\":[{\"type\":\"contourcarpet\",\"colorbar\":{\"outlinewidth\":0,\"ticks\":\"\"}}],\"contour\":[{\"type\":\"contour\",\"colorbar\":{\"outlinewidth\":0,\"ticks\":\"\"},\"colorscale\":[[0.0,\"#0d0887\"],[0.1111111111111111,\"#46039f\"],[0.2222222222222222,\"#7201a8\"],[0.3333333333333333,\"#9c179e\"],[0.4444444444444444,\"#bd3786\"],[0.5555555555555556,\"#d8576b\"],[0.6666666666666666,\"#ed7953\"],[0.7777777777777778,\"#fb9f3a\"],[0.8888888888888888,\"#fdca26\"],[1.0,\"#f0f921\"]]}],\"surface\":[{\"type\":\"surface\",\"colorbar\":{\"outlinewidth\":0,\"ticks\":\"\"},\"colorscale\":[[0.0,\"#0d0887\"],[0.1111111111111111,\"#46039f\"],[0.2222222222222222,\"#7201a8\"],[0.3333333333333333,\"#9c179e\"],[0.4444444444444444,\"#bd3786\"],[0.5555555555555556,\"#d8576b\"],[0.6666666666666666,\"#ed7953\"],[0.7777777777777778,\"#fb9f3a\"],[0.8888888888888888,\"#fdca26\"],[1.0,\"#f0f921\"]]}],\"mesh3d\":[{\"type\":\"mesh3d\",\"colorbar\":{\"outlinewidth\":0,\"ticks\":\"\"}}],\"scatter\":[{\"fillpattern\":{\"fillmode\":\"overlay\",\"size\":10,\"solidity\":0.2},\"type\":\"scatter\"}],\"parcoords\":[{\"type\":\"parcoords\",\"line\":{\"colorbar\":{\"outlinewidth\":0,\"ticks\":\"\"}}}],\"scatterpolargl\":[{\"type\":\"scatterpolargl\",\"marker\":{\"colorbar\":{\"outlinewidth\":0,\"ticks\":\"\"}}}],\"bar\":[{\"error_x\":{\"color\":\"#2a3f5f\"},\"error_y\":{\"color\":\"#2a3f5f\"},\"marker\":{\"line\":{\"color\":\"#E5ECF6\",\"width\":0.5},\"pattern\":{\"fillmode\":\"overlay\",\"size\":10,\"solidity\":0.2}},\"type\":\"bar\"}],\"scattergeo\":[{\"type\":\"scattergeo\",\"marker\":{\"colorbar\":{\"outlinewidth\":0,\"ticks\":\"\"}}}],\"scatterpolar\":[{\"type\":\"scatterpolar\",\"marker\":{\"colorbar\":{\"outlinewidth\":0,\"ticks\":\"\"}}}],\"histogram\":[{\"marker\":{\"pattern\":{\"fillmode\":\"overlay\",\"size\":10,\"solidity\":0.2}},\"type\":\"histogram\"}],\"scattergl\":[{\"type\":\"scattergl\",\"marker\":{\"colorbar\":{\"outlinewidth\":0,\"ticks\":\"\"}}}],\"scatter3d\":[{\"type\":\"scatter3d\",\"line\":{\"colorbar\":{\"outlinewidth\":0,\"ticks\":\"\"}},\"marker\":{\"colorbar\":{\"outlinewidth\":0,\"ticks\":\"\"}}}],\"scattermapbox\":[{\"type\":\"scattermapbox\",\"marker\":{\"colorbar\":{\"outlinewidth\":0,\"ticks\":\"\"}}}],\"scatterternary\":[{\"type\":\"scatterternary\",\"marker\":{\"colorbar\":{\"outlinewidth\":0,\"ticks\":\"\"}}}],\"scattercarpet\":[{\"type\":\"scattercarpet\",\"marker\":{\"colorbar\":{\"outlinewidth\":0,\"ticks\":\"\"}}}],\"carpet\":[{\"aaxis\":{\"endlinecolor\":\"#2a3f5f\",\"gridcolor\":\"white\",\"linecolor\":\"white\",\"minorgridcolor\":\"white\",\"startlinecolor\":\"#2a3f5f\"},\"baxis\":{\"endlinecolor\":\"#2a3f5f\",\"gridcolor\":\"white\",\"linecolor\":\"white\",\"minorgridcolor\":\"white\",\"startlinecolor\":\"#2a3f5f\"},\"type\":\"carpet\"}],\"table\":[{\"cells\":{\"fill\":{\"color\":\"#EBF0F8\"},\"line\":{\"color\":\"white\"}},\"header\":{\"fill\":{\"color\":\"#C8D4E3\"},\"line\":{\"color\":\"white\"}},\"type\":\"table\"}],\"barpolar\":[{\"marker\":{\"line\":{\"color\":\"#E5ECF6\",\"width\":0.5},\"pattern\":{\"fillmode\":\"overlay\",\"size\":10,\"solidity\":0.2}},\"type\":\"barpolar\"}],\"pie\":[{\"automargin\":true,\"type\":\"pie\"}]},\"layout\":{\"autotypenumbers\":\"strict\",\"colorway\":[\"#636efa\",\"#EF553B\",\"#00cc96\",\"#ab63fa\",\"#FFA15A\",\"#19d3f3\",\"#FF6692\",\"#B6E880\",\"#FF97FF\",\"#FECB52\"],\"font\":{\"color\":\"#2a3f5f\"},\"hovermode\":\"closest\",\"hoverlabel\":{\"align\":\"left\"},\"paper_bgcolor\":\"white\",\"plot_bgcolor\":\"#E5ECF6\",\"polar\":{\"bgcolor\":\"#E5ECF6\",\"angularaxis\":{\"gridcolor\":\"white\",\"linecolor\":\"white\",\"ticks\":\"\"},\"radialaxis\":{\"gridcolor\":\"white\",\"linecolor\":\"white\",\"ticks\":\"\"}},\"ternary\":{\"bgcolor\":\"#E5ECF6\",\"aaxis\":{\"gridcolor\":\"white\",\"linecolor\":\"white\",\"ticks\":\"\"},\"baxis\":{\"gridcolor\":\"white\",\"linecolor\":\"white\",\"ticks\":\"\"},\"caxis\":{\"gridcolor\":\"white\",\"linecolor\":\"white\",\"ticks\":\"\"}},\"coloraxis\":{\"colorbar\":{\"outlinewidth\":0,\"ticks\":\"\"}},\"colorscale\":{\"sequential\":[[0.0,\"#0d0887\"],[0.1111111111111111,\"#46039f\"],[0.2222222222222222,\"#7201a8\"],[0.3333333333333333,\"#9c179e\"],[0.4444444444444444,\"#bd3786\"],[0.5555555555555556,\"#d8576b\"],[0.6666666666666666,\"#ed7953\"],[0.7777777777777778,\"#fb9f3a\"],[0.8888888888888888,\"#fdca26\"],[1.0,\"#f0f921\"]],\"sequentialminus\":[[0.0,\"#0d0887\"],[0.1111111111111111,\"#46039f\"],[0.2222222222222222,\"#7201a8\"],[0.3333333333333333,\"#9c179e\"],[0.4444444444444444,\"#bd3786\"],[0.5555555555555556,\"#d8576b\"],[0.6666666666666666,\"#ed7953\"],[0.7777777777777778,\"#fb9f3a\"],[0.8888888888888888,\"#fdca26\"],[1.0,\"#f0f921\"]],\"diverging\":[[0,\"#8e0152\"],[0.1,\"#c51b7d\"],[0.2,\"#de77ae\"],[0.3,\"#f1b6da\"],[0.4,\"#fde0ef\"],[0.5,\"#f7f7f7\"],[0.6,\"#e6f5d0\"],[0.7,\"#b8e186\"],[0.8,\"#7fbc41\"],[0.9,\"#4d9221\"],[1,\"#276419\"]]},\"xaxis\":{\"gridcolor\":\"white\",\"linecolor\":\"white\",\"ticks\":\"\",\"title\":{\"standoff\":15},\"zerolinecolor\":\"white\",\"automargin\":true,\"zerolinewidth\":2},\"yaxis\":{\"gridcolor\":\"white\",\"linecolor\":\"white\",\"ticks\":\"\",\"title\":{\"standoff\":15},\"zerolinecolor\":\"white\",\"automargin\":true,\"zerolinewidth\":2},\"scene\":{\"xaxis\":{\"backgroundcolor\":\"#E5ECF6\",\"gridcolor\":\"white\",\"linecolor\":\"white\",\"showbackground\":true,\"ticks\":\"\",\"zerolinecolor\":\"white\",\"gridwidth\":2},\"yaxis\":{\"backgroundcolor\":\"#E5ECF6\",\"gridcolor\":\"white\",\"linecolor\":\"white\",\"showbackground\":true,\"ticks\":\"\",\"zerolinecolor\":\"white\",\"gridwidth\":2},\"zaxis\":{\"backgroundcolor\":\"#E5ECF6\",\"gridcolor\":\"white\",\"linecolor\":\"white\",\"showbackground\":true,\"ticks\":\"\",\"zerolinecolor\":\"white\",\"gridwidth\":2}},\"shapedefaults\":{\"line\":{\"color\":\"#2a3f5f\"}},\"annotationdefaults\":{\"arrowcolor\":\"#2a3f5f\",\"arrowhead\":0,\"arrowwidth\":1},\"geo\":{\"bgcolor\":\"white\",\"landcolor\":\"#E5ECF6\",\"subunitcolor\":\"white\",\"showland\":true,\"showlakes\":true,\"lakecolor\":\"white\"},\"title\":{\"x\":0.05},\"mapbox\":{\"style\":\"light\"}}},\"xaxis\":{\"anchor\":\"y\",\"domain\":[0.0,0.45],\"tickformat\":\"%d %b %Y\"},\"yaxis\":{\"anchor\":\"x\",\"domain\":[0.0,1.0],\"title\":{\"text\":\"ARS\"}},\"xaxis2\":{\"anchor\":\"y2\",\"domain\":[0.55,1.0],\"tickformat\":\"%d %b %Y\"},\"yaxis2\":{\"anchor\":\"x2\",\"domain\":[0.0,1.0],\"title\":{\"text\":\"Index\"}},\"annotations\":[{\"font\":{\"size\":16},\"showarrow\":false,\"text\":\"indexValue\",\"x\":0.225,\"xanchor\":\"center\",\"xref\":\"paper\",\"y\":1.0,\"yanchor\":\"bottom\",\"yref\":\"paper\"},{\"font\":{\"size\":16},\"showarrow\":false,\"text\":\"nominalValue\",\"x\":0.775,\"xanchor\":\"center\",\"xref\":\"paper\",\"y\":1.0,\"yanchor\":\"bottom\",\"yref\":\"paper\"}],\"title\":{\"text\":\"\\u003cb style='color:#AA322F'\\u003eGBTC\\u002fARS Index Analysis: indexValue and nominalValue\\u003c\\u002fb\\u003e\"}},                        {\"responsive\": true}                    ).then(function(){\n",
       "                            \n",
       "var gd = document.getElementById('4ff11647-d2e1-4166-838f-2d184e7014a3');\n",
       "var x = new MutationObserver(function (mutations, observer) {{\n",
       "        var display = window.getComputedStyle(gd).display;\n",
       "        if (!display || display === 'none') {{\n",
       "            console.log([gd, 'removed!']);\n",
       "            Plotly.purge(gd);\n",
       "            observer.disconnect();\n",
       "        }}\n",
       "}});\n",
       "\n",
       "// Listen for the removal of the full notebook cells\n",
       "var notebookContainer = gd.closest('#notebook-container');\n",
       "if (notebookContainer) {{\n",
       "    x.observe(notebookContainer, {childList: true});\n",
       "}}\n",
       "\n",
       "// Listen for the clearing of the current output cell\n",
       "var outputEl = gd.closest('.output');\n",
       "if (outputEl) {{\n",
       "    x.observe(outputEl, {childList: true});\n",
       "}}\n",
       "\n",
       "                        })                };                });            </script>        </div>"
      ]
     },
     "metadata": {},
     "output_type": "display_data"
    }
   ],
   "source": [
    "import plotly.graph_objects as go\n",
    "from plotly.subplots import make_subplots\n",
    "\n",
    "# Suppose df_combinado has the necessary columns, including \"mdEntryDateTime,\" \"indexValue,\" and \"nominalValue.\"\n",
    "\n",
    "# Create subplots\n",
    "fig = make_subplots(rows=1, cols=2, subplot_titles=(\"indexValue\", \"nominalValue\"))\n",
    "\n",
    "# Subplot 1: indexValue on the left\n",
    "# Subplot 1: indexValue on the left\n",
    "fig.add_trace(go.Scatter(x=df_combinado['mdEntryDateTime'], y=df_combinado['indexValue'], name='indexValue', line=dict(color='#1C598A')), row=1, col=1)\n",
    "fig.update_yaxes(title_text=\"ARS\", row=1, col=1)\n",
    "\n",
    "\n",
    "# Subplot 2: nominalValue on the right in bar format\n",
    "fig.add_trace(go.Bar(x=df_combinado['mdEntryDateTime'], y=df_combinado['nominalValue'], name='nominalValue', marker=dict(color='#6CADE1')), row=1, col=2)\n",
    "fig.update_yaxes(title_text=\"Index\", row=1, col=2)\n",
    "\n",
    "# Customize the X-axis format\n",
    "fig.update_xaxes(tickformat=\"%d %b %Y\", row=1, col=1)\n",
    "fig.update_xaxes(tickformat=\"%d %b %Y\", row=1, col=2)\n",
    "\n",
    "# Customize the title\n",
    "fig.update_layout(\n",
    "    title_text=\"<b style='color:#AA322F'>GBTC/ARS Index Analysis: indexValue and nominalValue</b>\"\n",
    ")\n",
    "\n",
    "# Show the plot with subplots\n",
    "fig.show()"
   ]
  },
  {
   "cell_type": "code",
   "execution_count": 7,
   "id": "c8d8718d",
   "metadata": {
    "execution": {
     "iopub.execute_input": "2024-02-08T18:01:52.356262Z",
     "iopub.status.busy": "2024-02-08T18:01:52.355963Z",
     "iopub.status.idle": "2024-02-08T18:01:54.745806Z",
     "shell.execute_reply": "2024-02-08T18:01:54.744789Z"
    },
    "papermill": {
     "duration": 2.397167,
     "end_time": "2024-02-08T18:01:54.748038",
     "exception": false,
     "start_time": "2024-02-08T18:01:52.350871",
     "status": "completed"
    },
    "tags": []
   },
   "outputs": [
    {
     "data": {
      "image/png": "[encoded data removed]",
      "text/plain": [
       "<Figure size 800x600 with 2 Axes>"
      ]
     },
     "metadata": {},
     "output_type": "display_data"
    }
   ],
   "source": [
    "import matplotlib.pyplot as plt\n",
    "import matplotlib.dates as mdates\n",
    "import pandas as pd\n",
    "\n",
    "# Supongamos que 'df_combinado' es un DataFrame de pandas con las columnas 'mdEntryDateTime', 'indexValue' y 'nominalValue'\n",
    "\n",
    "# Convertir 'mdEntryDateTime' a objetos de fecha y hora\n",
    "df_combinado['mdEntryDateTime'] = pd.to_datetime(df_combinado['mdEntryDateTime'])\n",
    "\n",
    "# Crear una figura con dos subplots y ajustar el tamaño a 8x6 pulgadas\n",
    "fig_matba_static = plt.figure(figsize=(8, 6))\n",
    "\n",
    "# Subplot 1: indexValue en la izquierda sin recuadro\n",
    "plt.subplot(121, frameon=False)\n",
    "plt.plot(df_combinado['mdEntryDateTime'], df_combinado['indexValue'], label='indexValue', color='#1C598A')\n",
    "plt.title('indexValue')\n",
    "plt.ylabel('ARS')\n",
    "\n",
    "# Cambiar el formato del eje x a \"20-oct-23\" y rotar las etiquetas\n",
    "date_format = mdates.DateFormatter('%d-%b-%y')\n",
    "plt.gca().xaxis.set_major_formatter(date_format)\n",
    "\n",
    "# Configurar la separación de las etiquetas en el eje x (cada dos días)\n",
    "plt.gca().xaxis.set_major_locator(mdates.DayLocator(interval=2))\n",
    "\n",
    "plt.xticks(rotation=0)  # Mantener las etiquetas horizontales\n",
    "\n",
    "# Subplot 2: nominalValue en formato de barras en la derecha sin recuadro\n",
    "plt.subplot(122, frameon=False)\n",
    "plt.bar(df_combinado['mdEntryDateTime'], df_combinado['nominalValue'], label='nominalValue', color='#6CADE1')\n",
    "plt.title('nominalValue')\n",
    "plt.ylabel('Index')\n",
    "\n",
    "# Aplicar el mismo formato y separación de fechas al segundo subplot\n",
    "plt.gca().xaxis.set_major_formatter(date_format)\n",
    "plt.gca().xaxis.set_major_locator(mdates.DayLocator(interval=2))\n",
    "\n",
    "plt.xticks(rotation=0)\n",
    "\n",
    "# Añadir título general\n",
    "plt.suptitle('GBTC/ARS Index Analysis: indexValue and nominalValue', color='#AA322F')\n",
    "\n",
    "plt.tight_layout()  # Ajustar los subplots para evitar superposiciones\n",
    "\n",
    "# Guarda el gráfico como un archivo PDF\n",
    "plt.savefig(\"matba-rofex.pdf\", format=\"pdf\")\n",
    "plt.show()\n"
   ]
  },
  {
   "cell_type": "code",
   "execution_count": 8,
   "id": "e8a2fc5f",
   "metadata": {
    "_cell_guid": "d3dc521f-024b-4b59-a8b0-607c13108e30",
    "_uuid": "44db106f-e2cb-44af-be87-b6cfce47f72d",
    "collapsed": false,
    "execution": {
     "iopub.execute_input": "2024-02-08T18:01:54.760145Z",
     "iopub.status.busy": "2024-02-08T18:01:54.759521Z",
     "iopub.status.idle": "2024-02-08T18:02:05.056099Z",
     "shell.execute_reply": "2024-02-08T18:02:05.054707Z"
    },
    "jupyter": {
     "outputs_hidden": false
    },
    "papermill": {
     "duration": 10.304966,
     "end_time": "2024-02-08T18:02:05.058093",
     "exception": false,
     "start_time": "2024-02-08T18:01:54.753127",
     "status": "completed"
    },
    "tags": []
   },
   "outputs": [
    {
     "name": "stdout",
     "output_type": "stream",
     "text": [
      "Collecting chart_studio\r\n",
      "  Downloading chart_studio-1.1.0-py3-none-any.whl (64 kB)\r\n",
      "\u001b[2K     \u001b[90m━━━━━━━━━━━━━━━━━━━━━━━━━━━━━━━━━━━━━━━━\u001b[0m \u001b[32m64.4/64.4 kB\u001b[0m \u001b[31m2.9 MB/s\u001b[0m eta \u001b[36m0:00:00\u001b[0m\r\n",
      "\u001b[?25hRequirement already satisfied: plotly in /opt/conda/lib/python3.10/site-packages (from chart_studio) (5.15.0)\r\n",
      "Requirement already satisfied: requests in /opt/conda/lib/python3.10/site-packages (from chart_studio) (2.31.0)\r\n",
      "Requirement already satisfied: retrying>=1.3.3 in /opt/conda/lib/python3.10/site-packages (from chart_studio) (1.3.3)\r\n",
      "Requirement already satisfied: six in /opt/conda/lib/python3.10/site-packages (from chart_studio) (1.16.0)\r\n",
      "Requirement already satisfied: tenacity>=6.2.0 in /opt/conda/lib/python3.10/site-packages (from plotly->chart_studio) (8.2.2)\r\n",
      "Requirement already satisfied: packaging in /opt/conda/lib/python3.10/site-packages (from plotly->chart_studio) (21.3)\r\n",
      "Requirement already satisfied: charset-normalizer<4,>=2 in /opt/conda/lib/python3.10/site-packages (from requests->chart_studio) (3.1.0)\r\n",
      "Requirement already satisfied: idna<4,>=2.5 in /opt/conda/lib/python3.10/site-packages (from requests->chart_studio) (3.4)\r\n",
      "Requirement already satisfied: urllib3<3,>=1.21.1 in /opt/conda/lib/python3.10/site-packages (from requests->chart_studio) (1.26.15)\r\n",
      "Requirement already satisfied: certifi>=2017.4.17 in /opt/conda/lib/python3.10/site-packages (from requests->chart_studio) (2023.5.7)\r\n",
      "Requirement already satisfied: pyparsing!=3.0.5,>=2.0.2 in /opt/conda/lib/python3.10/site-packages (from packaging->plotly->chart_studio) (3.0.9)\r\n",
      "Installing collected packages: chart_studio\r\n",
      "Successfully installed chart_studio-1.1.0\r\n",
      "Note: you may need to restart the kernel to use updated packages.\n"
     ]
    }
   ],
   "source": [
    "pip install chart_studio"
   ]
  },
  {
   "cell_type": "code",
   "execution_count": 9,
   "id": "0fdeca94",
   "metadata": {
    "_cell_guid": "b5c7f928-13c1-4c70-972a-ca61ed6d20f7",
    "_uuid": "a2016d5c-267c-488a-830c-2429d6d824e1",
    "collapsed": false,
    "execution": {
     "iopub.execute_input": "2024-02-08T18:02:05.071586Z",
     "iopub.status.busy": "2024-02-08T18:02:05.071300Z",
     "iopub.status.idle": "2024-02-08T18:02:05.088350Z",
     "shell.execute_reply": "2024-02-08T18:02:05.087498Z"
    },
    "jupyter": {
     "outputs_hidden": false
    },
    "papermill": {
     "duration": 0.025181,
     "end_time": "2024-02-08T18:02:05.090137",
     "exception": false,
     "start_time": "2024-02-08T18:02:05.064956",
     "status": "completed"
    },
    "tags": []
   },
   "outputs": [],
   "source": [
    "import chart_studio"
   ]
  },
  {
   "cell_type": "code",
   "execution_count": 10,
   "id": "917adc41",
   "metadata": {
    "_cell_guid": "7b5c3d53-fd8b-4065-a161-816a19169890",
    "_uuid": "850916be-a277-41f4-b0c1-891aa2a8a201",
    "collapsed": false,
    "execution": {
     "iopub.execute_input": "2024-02-08T18:02:05.102116Z",
     "iopub.status.busy": "2024-02-08T18:02:05.101821Z",
     "iopub.status.idle": "2024-02-08T18:02:05.105765Z",
     "shell.execute_reply": "2024-02-08T18:02:05.104984Z"
    },
    "jupyter": {
     "outputs_hidden": false
    },
    "papermill": {
     "duration": 0.011886,
     "end_time": "2024-02-08T18:02:05.107467",
     "exception": false,
     "start_time": "2024-02-08T18:02:05.095581",
     "status": "completed"
    },
    "tags": []
   },
   "outputs": [],
   "source": [
    "import chart_studio.plotly as py"
   ]
  },
  {
   "cell_type": "code",
   "execution_count": 11,
   "id": "a66fca18",
   "metadata": {
    "_cell_guid": "e49c42ac-fc67-4185-a429-6d3fa5313bcf",
    "_uuid": "e7c83217-5616-42b5-afb8-dd6c3f2cd3a5",
    "collapsed": false,
    "execution": {
     "iopub.execute_input": "2024-02-08T18:02:05.119248Z",
     "iopub.status.busy": "2024-02-08T18:02:05.119014Z",
     "iopub.status.idle": "2024-02-08T18:02:05.305337Z",
     "shell.execute_reply": "2024-02-08T18:02:05.304454Z"
    },
    "jupyter": {
     "outputs_hidden": false
    },
    "papermill": {
     "duration": 0.194574,
     "end_time": "2024-02-08T18:02:05.307418",
     "exception": false,
     "start_time": "2024-02-08T18:02:05.112844",
     "status": "completed"
    },
    "tags": []
   },
   "outputs": [],
   "source": [
    "from kaggle_secrets import UserSecretsClient\n",
    "user_secrets = UserSecretsClient()\n",
    "secret_value_3 = user_secrets.get_secret(\"CHARTSTUDIO_BCRA_API_KEY\")"
   ]
  },
  {
   "cell_type": "code",
   "execution_count": 12,
   "id": "7e66f617",
   "metadata": {
    "_cell_guid": "6cf71e23-abee-4a05-91de-232a5e17378a",
    "_uuid": "13d55b73-6790-4a9c-87c5-5467fbe75d1e",
    "collapsed": false,
    "execution": {
     "iopub.execute_input": "2024-02-08T18:02:05.320373Z",
     "iopub.status.busy": "2024-02-08T18:02:05.320084Z",
     "iopub.status.idle": "2024-02-08T18:02:11.042903Z",
     "shell.execute_reply": "2024-02-08T18:02:11.041907Z"
    },
    "jupyter": {
     "outputs_hidden": false
    },
    "papermill": {
     "duration": 5.731351,
     "end_time": "2024-02-08T18:02:11.044968",
     "exception": false,
     "start_time": "2024-02-08T18:02:05.313617",
     "status": "completed"
    },
    "tags": []
   },
   "outputs": [
    {
     "data": {
      "text/plain": [
       "'https://plotly.com/~crypto-financial-stability-monitor/1152/'"
      ]
     },
     "execution_count": 12,
     "metadata": {},
     "output_type": "execute_result"
    }
   ],
   "source": [
    "# Graf de Vol \n",
    "chart_studio.tools.set_credentials_file(username='crypto-financial-stability-monitor', \n",
    "                                        api_key=secret_value_3)\n",
    "py.plot(fig, filename = 'matba-rofex', auto_open=True)"
   ]
  }
 ],
 "metadata": {
  "kaggle": {
   "accelerator": "none",
   "dataSources": [],
   "dockerImageVersionId": 30527,
   "isGpuEnabled": false,
   "isInternetEnabled": true,
   "language": "python",
   "sourceType": "notebook"
  },
  "kernelspec": {
   "display_name": "Python 3",
   "language": "python",
   "name": "python3"
  },
  "language_info": {
   "codemirror_mode": {
    "name": "ipython",
    "version": 3
   },
   "file_extension": ".py",
   "mimetype": "text/x-python",
   "name": "python",
   "nbconvert_exporter": "python",
   "pygments_lexer": "ipython3",
   "version": "3.10.12"
  },
  "papermill": {
   "default_parameters": {},
   "duration": 48.222931,
   "end_time": "2024-02-08T18:02:11.971783",
   "environment_variables": {},
   "exception": null,
   "input_path": "__notebook__.ipynb",
   "output_path": "__notebook__.ipynb",
   "parameters": {},
   "start_time": "2024-02-08T18:01:23.748852",
   "version": "2.4.0"
  }
 },
 "nbformat": 4,
 "nbformat_minor": 5
}
